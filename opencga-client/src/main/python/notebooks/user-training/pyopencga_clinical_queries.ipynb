{
 "cells": [
  {
   "cell_type": "markdown",
   "id": "swedish-little",
   "metadata": {},
   "source": [
    "# Clinical Queries"
   ]
  },
  {
   "cell_type": "markdown",
   "id": "finished-newcastle",
   "metadata": {},
   "source": [
    "## Setup the Client and Login into *pyopencga* \n",
    "\n",
    "**Configuration and Credentials** \n",
    "\n",
    "Let's assume we already have *pyopencga* installed in our python setup (all the steps described on [pyopencga_first_steps.ipynb](https://github.com/opencb/opencga/tree/develop/opencga-client/src/main/python/notebooks/user-training)).\n",
    "\n",
    "You need to provide **at least** a host server URL in the standard configuration format for OpenCGA as a python dictionary or in a json file.\n"
   ]
  },
  {
   "cell_type": "code",
   "execution_count": 17,
   "id": "unique-effort",
   "metadata": {},
   "outputs": [],
   "source": [
    "## Step 1. Import pyopencga dependecies\n",
    "from pyopencga.opencga_config import ClientConfiguration # import configuration module\n",
    "from pyopencga.opencga_client import OpencgaClient # import client module\n",
    "from pprint import pprint\n",
    "from IPython.display import JSON\n",
    "import matplotlib.pyplot as plt\n",
    "import seaborn as sns\n",
    "import pandas as pd\n",
    "\n",
    "## Step 2. User credentials\n",
    "user = 'demouser'\n",
    "####################################\n",
    "\n",
    "## Step 3. Create the ClientConfiguration dict\n",
    "host = 'http://bioinfo.hpc.cam.ac.uk/opencga-prod'\n",
    "config_dict = {'rest': {\n",
    "                       'host': host\n",
    "                    }\n",
    "               }\n",
    "\n",
    "## Step 4. Create the ClientConfiguration and OpenCGA client\n",
    "config = ClientConfiguration(config_dict)\n",
    "oc = OpencgaClient(config)\n",
    "\n",
    "## Step 5. Login to OpenCGA using the OpenCGA client- add password when prompted\n",
    "oc.login(user)\n",
    "\n",
    "print('Logged succesfuly to {}, your token is: {} well done!'.format(host, oc.token))\n"
   ]
  },
  {
   "cell_type": "markdown",
   "id": "front-cylinder",
   "metadata": {},
   "source": [
    "## Define some common variables\n",
    "\n",
    "Here you can define some variables that will be used repeatedly over the notebook."
   ]
  },
  {
   "cell_type": "code",
   "execution_count": 14,
   "id": "illegal-length",
   "metadata": {},
   "outputs": [],
   "source": [
    "# Define the study id\n",
    "study = 'reanalysis:rd38'\n",
    "\n",
    "# Define a clinicalCaseId\n",
    "case_id = 'OPA-10044-1'\n",
    "\n",
    "# Define a interpretationId\n",
    "interpretation_id = 'OPA-10044-1__2'"
   ]
  },
  {
   "cell_type": "markdown",
   "id": "rubber-productivity",
   "metadata": {},
   "source": [
    "## 1. Comon Queries for Clinical Analysis"
   ]
  },
  {
   "cell_type": "markdown",
   "id": "hispanic-found",
   "metadata": {},
   "source": [
    "### Retrieve cases in a study\n",
    "----\n",
    "The query below retrieves the cases in a study. For performance reasons, we have limited the number of results retrieved in the query.\n",
    "\n",
    "You can change the parameter `limit` to controle the number of cases you want to retrieve for the query. \n",
    "\n",
    "You can also control the information you want to retrieve and print from the cases with the parameters `include` and `fields`. "
   ]
  },
  {
   "cell_type": "code",
   "execution_count": 16,
   "id": "employed-missouri",
   "metadata": {},
   "outputs": [],
   "source": [
    "## Query using the clinical search web service\n",
    "cases_search = oc.clinical.search(study=study, include='id,type,proband,description,panels,interpretation', limit=5)\n",
    "cases_search.print_results(title='Cases found for study {}'.format(study), fields='id,type,proband.id,panels.id,interpretation.id')\n",
    "\n",
    "## Uncomment next line to display an interactive JSON viewer\n",
    "# JSON(cases_search.get_results())"
   ]
  },
  {
   "cell_type": "markdown",
   "id": "engaging-requirement",
   "metadata": {},
   "source": [
    "### Proband information: List of disorders and HPO terms from proband of a case\n",
    "-------\n",
    "The proband field from a case contains all the information related to a proband, including phenotypes and disorders.\n",
    "\n",
    "You can retrieve all the phenotypes and disorders of a proband from a case by inspecting the information at the proband level. We'll use the random `case_id` defined above:"
   ]
  },
  {
   "cell_type": "code",
   "execution_count": 18,
   "id": "distinguished-turkey",
   "metadata": {},
   "outputs": [],
   "source": [
    "## Query using the clinical info web service\n",
    "disorder_search = oc.clinical.search(study=study, include='id,type,proband', limit=5)\n",
    "disorder_search.print_results(title='Disorders and phenotypes', fields='id,type,proband.id')\n",
    "\n",
    "disorder_object = disorder_search.get_results()[0]['proband']\n",
    "\n",
    "## Uncomment next line to display an interactive JSON viewer\n",
    "# JSON(disorder_object)"
   ]
  },
  {
   "cell_type": "markdown",
   "id": "surrounded-western",
   "metadata": {},
   "source": [
    "### Check the interpretation id of a case\n",
    "----\n",
    "You can find the`interpretation id` from a case. This is useful to perform subsequent queries for that interpretation.\n",
    "\n",
    "Note that you can control the fields that are printed by the function `print_results` with the parameter `fields`. To see the whole clinical analysis object, you can use the interactive JSON viewer below."
   ]
  },
  {
   "cell_type": "code",
   "execution_count": 27,
   "id": "sweet-drink",
   "metadata": {},
   "outputs": [],
   "source": [
    "# Query using the clinical info web service\n",
    "clinical_info = oc.clinical.info(clinical_analysis=case_id, study=study)\n",
    "clinical_info.print_results(fields='id,interpretation.id,type,proband.id')\n",
    "\n",
    "## Uncomment next line to display an interactive JSON viewer\n",
    "# JSON(clinical_info.get_results()[0]['interpretation'])"
   ]
  },
  {
   "cell_type": "markdown",
   "id": "printable-thing",
   "metadata": {},
   "source": [
    "### Inspect the Interpretation object\n",
    "----\n",
    "Here you will retrieve many useful information from a case interpretation."
   ]
  },
  {
   "cell_type": "code",
   "execution_count": 116,
   "id": "native-output",
   "metadata": {},
   "outputs": [],
   "source": [
    "## Query using the clinical info_interpretation web service\n",
    "interpretation_object = oc.clinical.info_interpretation(interpretations='OPA-12120-1__2', study=study).get_results()\n",
    "\n",
    "## Uncomment next line to display an interactive JSON viewer\n",
    "# JSON(interpretation_object)"
   ]
  },
  {
   "cell_type": "markdown",
   "id": "effective-arbitration",
   "metadata": {},
   "source": [
    "### Check Reported pathogenic variants in a case interpretation and list the variant tier\n",
    "-----\n",
    "Run the cell below to retrieve the interpretation stats, including the pathogenic variants reported in a case. "
   ]
  },
  {
   "cell_type": "code",
   "execution_count": 69,
   "id": "precise-illinois",
   "metadata": {},
   "outputs": [],
   "source": [
    "## Query using the clinical info_interpretation web service\n",
    "interpretation_stats = oc.clinical.info_interpretation(interpretations='OPA-12120-1__2', include='stats', study=study).get_results()[0]['stats']['primaryFindings']\n",
    "\n",
    "## Uncomment next line to display an interactive JSON viewer\n",
    "# JSON(interpretation_stats)"
   ]
  },
  {
   "cell_type": "markdown",
   "id": "atmospheric-electronics",
   "metadata": {},
   "source": [
    "### Retrieve the annotation for the reported variants\n",
    "----"
   ]
  },
  {
   "cell_type": "markdown",
   "id": "oriental-verse",
   "metadata": {},
   "source": [
    "Run the cell below to retrieve the annotation for the variants obtained "
   ]
  },
  {
   "cell_type": "code",
   "execution_count": 77,
   "id": "verbal-testament",
   "metadata": {},
   "outputs": [],
   "source": [
    "## Query using the clinical info_interpretation web service\n",
    "variant_annotation = oc.clinical.info_interpretation(interpretations='OPA-12120-1__2', include='primaryFindings.annotation', study=study).get_results()[0]['primaryFindings']\n",
    "\n",
    "## Uncomment next line to display an interactive JSON viewer\n",
    "# JSON(variant_annotation)"
   ]
  },
  {
   "cell_type": "markdown",
   "id": "demonstrated-cologne",
   "metadata": {},
   "source": [
    "### PanelApp panels applied in the original analysis \n",
    "--------\n",
    "\n",
    "Obtain the list of genes that were in the panel at the time of the original analysis"
   ]
  },
  {
   "cell_type": "code",
   "execution_count": 42,
   "id": "corrected-violence",
   "metadata": {},
   "outputs": [],
   "source": [
    "cases_search = oc.clinical.search(study=study, include='id,panels', limit= 5)\n",
    "cases_search.print_results(title='Cases found for study {}'.format(study), fields='id,panels.id')\n",
    "\n",
    "## Uncomment next line to display an interactive JSON viewer\n",
    "# JSON(cases_search.get_results())"
   ]
  },
  {
   "cell_type": "markdown",
   "id": "disciplinary-payday",
   "metadata": {},
   "source": [
    "## 2. Use Case"
   ]
  },
  {
   "cell_type": "markdown",
   "id": "oriental-violation",
   "metadata": {},
   "source": [
    "**Situation**: I want to retrieve a case, check whether the case has a reported pathogenic variant. Retriev the annotation information about these variants, if available.\n",
    "Finally, I want to come up with the list of tier 1, 2 and 3 variants for the sample."
   ]
  },
  {
   "cell_type": "markdown",
   "id": "completed-pearl",
   "metadata": {},
   "source": [
    "### 1. Search Cases in the study and select one random case.\n",
    "- First you need to perform the query of searching over all the cases in a study. Uncomment the second line to have a look at the JSON with all the cases in the study.\n",
    "\n",
    "Note that this query can take time because there is plenty of information. it is recommended to restrict the search to a number of cases with the parameter `limit` as below:"
   ]
  },
  {
   "cell_type": "code",
   "execution_count": 88,
   "id": "korean-billion",
   "metadata": {},
   "outputs": [],
   "source": [
    "## Search the cases\n",
    "cases_search = oc.clinical.search(study=study, limit=3)\n",
    "## Uncomment next line to display an interactive JSON viewer\n",
    "# JSON(cases_search.get_results())"
   ]
  },
  {
   "cell_type": "markdown",
   "id": "forward-webcam",
   "metadata": {},
   "source": [
    "- Now you can select one random case id for the subsequent analysis"
   ]
  },
  {
   "cell_type": "code",
   "execution_count": 39,
   "id": "mathematical-paradise",
   "metadata": {},
   "outputs": [],
   "source": [
    "## Define an empty list to keep the case ids:\n",
    "case_ids = []\n",
    "\n",
    "## Iterate over the cases and retrieve the ids:\n",
    "for case in oc.clinical.search(study=study, include='id').result_iterator():\n",
    "    case_ids.append(case['id'])\n",
    "\n",
    "## Uncomment for printing the list with all the case ids\n",
    "# print(case_ids)\n",
    "\n",
    "## Select a random case from the list\n",
    "import random\n",
    "if case_ids != []:\n",
    "    print('There are {} cases in study {}'.format(len(case_ids), study))\n",
    "    selected_case = random.choice(case_ids)\n",
    "    print('Case selected for analysis is {}'.format(selected_case))\n",
    "else:\n",
    "    print('There are no cases in the study', study)"
   ]
  },
  {
   "cell_type": "markdown",
   "id": "consolidated-punch",
   "metadata": {},
   "source": [
    "### 2. Retrieve the interpretation id/s from the seleted case"
   ]
  },
  {
   "cell_type": "code",
   "execution_count": 40,
   "id": "endangered-bridal",
   "metadata": {},
   "outputs": [],
   "source": [
    "## Query using the clinical info web service\n",
    "interpretation_info = oc.clinical.info(clinical_analysis=selected_case, study=study)\n",
    "interpretation_info.print_results(fields='id,interpretation.id,type,proband.id')\n",
    "\n",
    "## Select interpretation object \n",
    "interpretation_object = interpretation_info.get_results()[0]['interpretation']\n",
    "\n",
    "## Select interpretation id \n",
    "interpretation_id = interpretation_info.get_results()[0]['interpretation']['id']\n",
    "\n",
    "## Uncomment next line to display an interactive JSON viewer\n",
    "# JSON(interpretation_object)\n",
    "\n",
    "print('The interpretation id for case {} is {}'.format(selected_case, interpretation_object['id'] ))"
   ]
  },
  {
   "cell_type": "markdown",
   "id": "increasing-template",
   "metadata": {},
   "source": [
    "### 3. Retrieve reported variants and the annotation, including tiering\n",
    "- **Obtain the interpretation stats from the case**"
   ]
  },
  {
   "cell_type": "code",
   "execution_count": 33,
   "id": "defined-recovery",
   "metadata": {},
   "outputs": [],
   "source": [
    "## Query using the clinical info_interpretation web service\n",
    "interpretation_stats = oc.clinical.info_interpretation(interpretations=interpretation_id, include='stats', study=study).get_results()[0]['stats']['primaryFindings']\n",
    "\n",
    "## Uncomment next line to display an interactive JSON viewer\n",
    "# JSON(interpretation_stats)"
   ]
  },
  {
   "cell_type": "markdown",
   "id": "heated-kidney",
   "metadata": {},
   "source": [
    "- **Obtain annotation from variants reported in a interpretation from a case as a JSON object**"
   ]
  },
  {
   "cell_type": "code",
   "execution_count": 34,
   "id": "under-flesh",
   "metadata": {},
   "outputs": [],
   "source": [
    "## Query using the clinical info_interpretation web service\n",
    "primary_findings = oc.clinical.info_interpretation(interpretations=interpretation_id, study=study).get_results()[0]['primaryFindings']\n",
    "\n",
    "## Uncomment next line to display an interactive JSON viewer\n",
    "# JSON(primary_findings)"
   ]
  },
  {
   "cell_type": "markdown",
   "id": "little-smith",
   "metadata": {},
   "source": [
    "- **Obtain tiering: variant ids, genes, and tier from a case interpretation**"
   ]
  },
  {
   "cell_type": "code",
   "execution_count": 35,
   "id": "reported-reach",
   "metadata": {},
   "outputs": [],
   "source": [
    "## Perform the query\n",
    "variants_reported = oc.clinical.info_interpretation(interpretations=interpretation_id, study=study)\n",
    "\n",
    "## Define empty list to store the variants, genes and the tiering\n",
    "variant_list = []\n",
    "gene_id_list=[]\n",
    "genename_list=[]\n",
    "tier_list =[]\n",
    "\n",
    "\n",
    "for variant in variants_reported.get_results()[0]['primaryFindings']:\n",
    "    variant_id = variant['id']\n",
    "    variant_list.append(variant_id)\n",
    "    gene_id = variant['evidences'][0]['genomicFeature']['id']\n",
    "    gene_id_list.append(gene_id)\n",
    "    gene_name = variant['evidences'][0]['genomicFeature']['geneName']\n",
    "    genename_list.append(gene_name)\n",
    "    tier = variant['evidences'][0]['classification']['tier']\n",
    "    tier_list.append(tier)\n",
    "    \n",
    "## Construct a Dataframe and return the first 5 rows\n",
    "df = pd.DataFrame(data = {'variant_id':variant_list, 'gene_id':gene_id_list, 'gene_name':genename_list, 'tier': tier_list})\n",
    "df.head()\n"
   ]
  },
  {
   "cell_type": "code",
   "execution_count": null,
   "id": "amateur-marketing",
   "metadata": {
    "jupyter": {
     "source_hidden": true
    },
    "tags": []
   },
   "outputs": [],
   "source": []
  }
 ],
 "metadata": {
  "kernelspec": {
   "display_name": "Python 3",
   "language": "python",
   "name": "python3"
  },
  "language_info": {
   "codemirror_mode": {
    "name": "ipython",
    "version": 3
   },
   "file_extension": ".py",
   "mimetype": "text/x-python",
   "name": "python",
   "nbconvert_exporter": "python",
   "pygments_lexer": "ipython3",
   "version": "3.8.10"
  }
 },
 "nbformat": 4,
 "nbformat_minor": 5
}
