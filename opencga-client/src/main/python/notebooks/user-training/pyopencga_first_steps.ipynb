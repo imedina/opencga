{
 "cells": [
  {
   "cell_type": "markdown",
   "id": "junior-agriculture",
   "metadata": {
    "jupyter": {
     "source_hidden": true
    },
    "tags": []
   },
   "source": [
    "# First Steps with *pyopencga*; the Python client of OpenCGA\n",
    "------\n",
    "\n",
    "This notebook provides guidance for getting started with the *pyopencga* library, which is the Python client of OpenCGA. _pyopencga_ is a **REST client** that fully implements OpenCGA REST API.\n",
    "\n",
    "These notebooks use a demo installation available at the Univeristy of Cambrdige, feel free to change OpenCGA host and credentials to use any other OpenCGA server.\n",
    "\n",
    "We assume that your workstation (Linux, Mac, Windows) is connected to the internet and you have Python 3 and the *pip* package manager installed. We then show you how to:\n",
    "\n",
    "- Install *pyopencga*.\n",
    "- Connect to an OpenCGA instance.\n",
    "- Execute OpenCGA calls and work with responses.\n",
    "- Launch asynchronous jobs and retrieve results.\n",
    "\n",
    "Walk-through guides of some **common use cases** are provided in two further notebooks:<BR>\n",
    "- pyopencga_catalog.ipynb\n",
    "- pyopencga_variant_query.ipynb\n",
    "- pyopencga_variant_analysis.ipynb\n",
    "    \n",
    "You can check OpenCGA REST Web Service API with the following public OpenCGA installation:\n",
    "- https://ws.opencb.org/opencga-prod/webservices\n"
   ]
  },
  {
   "cell_type": "markdown",
   "id": "statistical-conclusion",
   "metadata": {},
   "source": [
    "# Installing and importing the *pyopencga* library\n",
    "-------\n",
    "\n",
    "## 1. Install *pyopencga* with *pip*\n",
    "\n",
    "_pyopencga_ is the OpenCGA python client available at PyPI (https://pypi.org/project/pyopencga/). You can easily install it by exeuting:\n",
    "\n",
    "`$ pip install pyopencga`\n",
    "\n",
    "_pyopencga_ uses some other dependencies , make sure you have installed Pandas, IPython or MatplotLib."
   ]
  },
  {
   "cell_type": "markdown",
   "id": "reduced-faculty",
   "metadata": {},
   "source": [
    "## 2. Import *pyopencga* library\n",
    "\n",
    "You can find here the import section with all the dependecies required to use _pyopencga_:"
   ]
  },
  {
   "cell_type": "code",
   "execution_count": 34,
   "id": "accredited-luxury",
   "metadata": {},
   "outputs": [],
   "source": [
    "from pyopencga.opencga_config import ClientConfiguration # import configuration module\n",
    "from pyopencga.opencga_client import OpencgaClient # import client module\n",
    "from pprint import pprint\n",
    "from IPython.display import JSON\n",
    "import matplotlib.pyplot as plt\n",
    "import datetime"
   ]
  },
  {
   "cell_type": "markdown",
   "id": "flying-differential",
   "metadata": {},
   "source": [
    "## 3. Setup OpenCGA Client \n",
    "\n",
    "**HOST:** You need to provide **at least** a OpenCGA host server URL in the standard configuration format for OpenCGA as a python dictionary or in a json file.\n",
    " \n",
    "**CREDENTIALS:** Regarding credentials, you can set both user and password as two variables in the script. If you prefer not to show the password, it would be asked interactively without echo.\n"
   ]
  },
  {
   "cell_type": "markdown",
   "id": "controlling-flesh",
   "metadata": {},
   "source": [
    "### Set variables for server host, user credentials and project owner"
   ]
  },
  {
   "cell_type": "code",
   "execution_count": 35,
   "id": "exempt-constitution",
   "metadata": {},
   "outputs": [],
   "source": [
    "# Server host\n",
    "host = 'http://bioinfo.hpc.cam.ac.uk/opencga-prod'\n",
    "\n",
    "# User credentials\n",
    "user = 'demouser'\n",
    "passwd = 'demouser' ## You can skip this, see below."
   ]
  },
  {
   "cell_type": "markdown",
   "id": "generous-watershed",
   "metadata": {},
   "source": [
    "### Creating ConfigClient dictionary for server connection configuration"
   ]
  },
  {
   "cell_type": "code",
   "execution_count": 36,
   "id": "toxic-morgan",
   "metadata": {},
   "outputs": [],
   "source": [
    "# Creating ClientConfiguration dict\n",
    "config_dict = {'rest': {\n",
    "                       'host': host \n",
    "                    }\n",
    "               }\n",
    "\n",
    "print('Config information:\\n',config_dict)"
   ]
  },
  {
   "cell_type": "markdown",
   "id": "emerging-watch",
   "metadata": {},
   "source": [
    "## 4. Initialize the Client \n",
    "\n",
    "Now we need to pass the *config_dict* dictionary to the **ClientConfiguration** method.<br>\n",
    "Once we have the configuration defined as *config* (see below), we can initiate the client. This is the **most important step**.\n",
    "\n",
    "#### OpencgaClient: what is and why is so important?\n",
    "\n",
    "The `OpencgaClient` (see *oc* variable below) implements all the methods to query the REST API of OpenCGA. All the webservices available, can be directly accesed through the client."
   ]
  },
  {
   "cell_type": "code",
   "execution_count": 37,
   "id": "secure-botswana",
   "metadata": {},
   "outputs": [],
   "source": [
    "## Create the configuration\n",
    "config = ClientConfiguration(config_dict)\n",
    "\n",
    "## Define the client\n",
    "oc = OpencgaClient(config)"
   ]
  },
  {
   "cell_type": "markdown",
   "id": "aerial-bunny",
   "metadata": {},
   "source": [
    "Once we have defined a variable with the client configuration and credentials, we can access to all the methods defined for the client. \n",
    "\n",
    "These methods implement calls to the OpenCGA **[web service endpoints](https://ws.opencb.org/opencga-prod/webservices/)** used by pyopencga."
   ]
  },
  {
   "cell_type": "markdown",
   "id": "accepted-auditor",
   "metadata": {},
   "source": [
    "## 5. Import the credentials and Login into OpenCGA\n",
    "\n",
    "**Option 1**: pass the user and be asked for the password interactively. This option is more secure if you don't want to have your passwords hardcoded or you will run the notebook with public. Uncomment the cell bellow to try:"
   ]
  },
  {
   "cell_type": "code",
   "execution_count": 6,
   "id": "bacterial-birthday",
   "metadata": {},
   "outputs": [
    {
     "name": "stdin",
     "output_type": "stream",
     "text": [
      " ········\n"
     ]
    }
   ],
   "source": [
    "# ## Option 1: here we put only the user in order to be asked for the password interactively\n",
    "# oc.login(user)\n",
    "# print('Logged succesfuly to {}, your token is: {} well done!'.format(host, oc.token))"
   ]
  },
  {
   "cell_type": "markdown",
   "id": "aboriginal-toronto",
   "metadata": {},
   "source": [
    "**Option 2**: pass the user and the password as variables. Be careful with this option as the password can be publicly showed."
   ]
  },
  {
   "cell_type": "code",
   "execution_count": 38,
   "id": "ethical-replication",
   "metadata": {},
   "outputs": [],
   "source": [
    "# Option 2: you can pass the user and passwd\n",
    "oc.login(user, passwd)\n",
    "print('Logged succesfuly to {}, your token is: {} well done!'.format(host, oc.token))"
   ]
  },
  {
   "cell_type": "markdown",
   "id": "comparative-compound",
   "metadata": {},
   "source": [
    "#### ✅  Congrats! You are should be now connected to your OpenCGA installation"
   ]
  },
  {
   "cell_type": "markdown",
   "id": "laden-capture",
   "metadata": {},
   "source": [
    "# Understanding REST Response\n",
    "--------\n",
    "\n",
    "*pyopencga* queries web services that return a RESTResponse object, which might be difficult to interpretate. The RESTResponse type provide the data in a manner that is not as intuitive as a python list or dictionary. Because of this, we have develop a useful functionality that retrieves the data in a simpler format. \n",
    "\n",
    "[OpenCGA Client Libraries](http://docs.opencb.org/display/opencga/Using+OpenCGA), including *pyopencga*, implement a **RESTReponse wrapper** to make even easier to work with REST web services responses. <br>REST responses include metadata and OpenCGA 2.0.1 has been designed to work in a federation mode (more information about OpenCGA federations can be found **[here](http://docs.opencb.org/display/opencga/Roadmapg)**).\n",
    "\n",
    "All these can make a first-time user to struggle when start working with the responses. Please read this brief documentation about **[OpenCGA RESTful Web Services](http://docs.opencb.org/display/opencga/RESTful+Web+Services#RESTfulWebServices-OpenCGA2.x)**.\n",
    "\n",
    "Let's see a quick example of how to use RESTResponse wrapper in *pyopencga*. \n",
    "You can get some extra inforamtion [here](http://docs.opencb.org/display/opencga/Python#Python-WorkingwiththeRestResponse). Let's execute a first simple query to fetch all projects for the user **demouser** already logged in **[Installing and importing the *pyopencga* library](#Installing-and-importing-the-*pyopencga*-library)**."
   ]
  },
  {
   "cell_type": "markdown",
   "id": "practical-fisher",
   "metadata": {},
   "source": [
    "#### Example of foor loop: \n",
    "Although you can iterate through all the different projects provided by the response by executing the next chunk of code, this is a **not recommended** way. The next query iterates over all the projects retrieved from `projects.search()`"
   ]
  },
  {
   "cell_type": "code",
   "execution_count": 39,
   "id": "satisfactory-durham",
   "metadata": {},
   "outputs": [],
   "source": [
    "## Let's fecth the available projects.\n",
    "## First let's get the project client and execute search() funciton\n",
    "projects = oc.projects.search(include='id,name')\n",
    "\n",
    "## Loop through all diferent projects \n",
    "for project in projects.responses[0]['results']:\n",
    "   print(project['id'], project['name'])"
   ]
  },
  {
   "cell_type": "markdown",
   "id": "weird-production",
   "metadata": {},
   "source": [
    "## RestResponse API"
   ]
  },
  {
   "cell_type": "markdown",
   "id": "minus-nursing",
   "metadata": {},
   "source": [
    "Note: Table with API funcitons and the description"
   ]
  },
  {
   "cell_type": "markdown",
   "id": "underlying-aurora",
   "metadata": {},
   "source": [
    "### 1. Using the `get_results()` function \n",
    "\n",
    "Using the functions that *pyopencga* implements for the RestResponse object makes things much easier! <br> Let's dig into an example using the same query as above:"
   ]
  },
  {
   "cell_type": "code",
   "execution_count": 40,
   "id": "deadly-kenya",
   "metadata": {},
   "outputs": [],
   "source": [
    "## Let's fecth the available projects.\n",
    "projects = oc.projects.search()\n",
    "\n",
    "## Uncomment next line to display an interactive JSON viewer\n",
    "# JSON(projects.get_results())"
   ]
  },
  {
   "cell_type": "markdown",
   "id": "explicit-appearance",
   "metadata": {},
   "source": [
    "### 2. Using the `result_iterator()` function to iterate over the Rest results\n",
    "\n",
    "You can also iterate results, this is specially interesting when fetching many results from the server."
   ]
  },
  {
   "cell_type": "code",
   "execution_count": 41,
   "id": "pressing-template",
   "metadata": {},
   "outputs": [],
   "source": [
    "## Let's fecth the available projects.\n",
    "projects = oc.projects.search()\n",
    "\n",
    "## Iterate through all diferent projects \n",
    "for project in projects.result_iterator():\n",
    "   print(project['id'], project['name'], project['creationDate'], project['organism'])"
   ]
  },
  {
   "cell_type": "markdown",
   "id": "korean-vatican",
   "metadata": {},
   "source": [
    "### 3. Using `print_results()` function to iterate over the Rest results\n",
    "\n",
    "**IMPORTANT**: This function implements a configuration to exclude metadata, change separator or even select the fields! Then it reaches all the user-desired results and prints them directly in the terminal.<br>In this way, the `RESTResponse` objectt implements a very powerful custom function to print results 😎\n",
    "\n",
    "**[NOTE]**: From *pyopencga 2.0.1.2* you can use the `title` parameter in the function to add a header to the results printed."
   ]
  },
  {
   "cell_type": "code",
   "execution_count": 42,
   "id": "moderate-lotus",
   "metadata": {},
   "outputs": [],
   "source": [
    "## This function iterates over all the results, it can be configured to exclude metadata, change separator or even select the fields!\n",
    "## Set a title to display the results\n",
    "user_defined_title = 'These are the projects you can access with your user'\n",
    "\n",
    "projects.print_results(title=user_defined_title, separator=',', fields='id,name,creationDate,organism')"
   ]
  },
  {
   "cell_type": "markdown",
   "id": "differential-bridges",
   "metadata": {},
   "source": [
    "#### Exercise:\n",
    "- Let's try to costumize the results so we can get printed only the portion of the data that we might be interested in.\n",
    "- The `metadata=False` parameter allows you to skip the header with the rest response information in the printed results."
   ]
  },
  {
   "cell_type": "code",
   "execution_count": 43,
   "id": "beginning-buddy",
   "metadata": {},
   "outputs": [],
   "source": [
    "## Lets exclude metadata and print only few fields, use dot notation for nested fields\n",
    "user_defined_title = 'Display selected fields from the projects data model'\n",
    "selected_fields='id,name,organism.scientificName,organism.assembly'\n",
    "\n",
    "projects.print_results(fields=selected_fields, metadata=False, title=user_defined_title)"
   ]
  },
  {
   "cell_type": "markdown",
   "id": "measured-polymer",
   "metadata": {},
   "source": [
    "#### Exercise:\n",
    "- A very useful parameter is the `separator`. It allows the user to decide the format in which the data is printed. For example, it's possible to print a CSV-like style:"
   ]
  },
  {
   "cell_type": "code",
   "execution_count": 44,
   "id": "rapid-correction",
   "metadata": {},
   "outputs": [],
   "source": [
    "## You can change separator\n",
    "print('Print the projects with a header and a different separator:\\n')\n",
    "projects.print_results(fields='id,name,organism.scientificName,organism.assembly', separator=',', metadata=False)"
   ]
  },
  {
   "cell_type": "markdown",
   "id": "abstract-statistics",
   "metadata": {},
   "source": [
    "### 4. Using Pandas DataFrame: `to_data_frame()` \n",
    "\n",
    "Pandas provides a very useful functionality for data science. You can convert `RestResponse` objects to Pandas DataFrames using the following function:\n",
    "\n",
    "`rest_response.to_data_frame()`"
   ]
  },
  {
   "cell_type": "code",
   "execution_count": 45,
   "id": "finished-programmer",
   "metadata": {},
   "outputs": [],
   "source": [
    "## Convert REST response object 'projects' to Pandas dataframe\n",
    "df = projects.to_data_frame()\n",
    "\n",
    "## Select some specific columns from the data frame\n",
    "formatted_df = df[['id', 'name', 'fqn', 'creationDate', 'studies', 'organism.scientificName']]\n",
    "print('The results can be stored and printed as a pandas DF:\\n\\n', formatted_df)"
   ]
  },
  {
   "cell_type": "markdown",
   "id": "comic-march",
   "metadata": {},
   "source": [
    "# Working with Jobs [UNDER ACTIVE DEVELOPMENT]\n",
    "------------------"
   ]
  },
  {
   "cell_type": "markdown",
   "id": "consolidated-lithuania",
   "metadata": {},
   "source": [
    "### NOTE: this section is under construction. \n",
    "\n",
    "- Please check the latest version of this notebook at https://github.com/opencb/opencga/blob/develop/opencga-client/src/main/python/notebooks/user-training/pyopencga_first_steps.ipynb\n",
    "\n",
    "OpenCGA implemets both a powerful interactive API to query data but also allows users to execute more demanding analysis by executing jobs. There are a number of analysis and operations that are executed as jobs such as Variant Export or GWAS analysis.\n"
   ]
  },
  {
   "cell_type": "markdown",
   "id": "moved-rates",
   "metadata": {},
   "source": [
    "## 1. Job Info\n",
    "\n",
    "Job data model contain all the information about a single excution: date, id, tool, status, files, ...   You can filter jobs by any of these parameters and even get some stats."
   ]
  },
  {
   "cell_type": "markdown",
   "id": "changed-gateway",
   "metadata": {},
   "source": [
    "## 2. Executing Jobs\n",
    "\n",
    "Job execution invovle different lifecycle stages: pending, queued, running, done, rejected.\n",
    "\n",
    "OpenCGA takes care of executing and notifying job changes.\n",
    "\n",
    "Executing a job is as simpla as the following code"
   ]
  },
  {
   "cell_type": "code",
   "execution_count": 9,
   "id": "indie-temperature",
   "metadata": {},
   "outputs": [],
   "source": [
    "## Eexecute GWAS analysis\n",
    "#rest_response = oc.variant().gwas()\n",
    "\n",
    "## wait for the job to finish\n",
    "#oc.wait_for_job(rest_response)\n",
    "\n",
    "#rest_response.print_results()"
   ]
  },
  {
   "cell_type": "markdown",
   "id": "technical-brave",
   "metadata": {},
   "source": [
    "### 3. Wait for a job to finish `wait_for_job()`\n",
    "\n",
    "This will stop python execution until the jobs been completed."
   ]
  }
 ],
 "metadata": {
  "kernelspec": {
   "display_name": "Python 3",
   "language": "python",
   "name": "python3"
  },
  "language_info": {
   "codemirror_mode": {
    "name": "ipython",
    "version": 3
   },
   "file_extension": ".py",
   "mimetype": "text/x-python",
   "name": "python",
   "nbconvert_exporter": "python",
   "pygments_lexer": "ipython3",
   "version": "3.8.10"
  }
 },
 "nbformat": 4,
 "nbformat_minor": 5
}
