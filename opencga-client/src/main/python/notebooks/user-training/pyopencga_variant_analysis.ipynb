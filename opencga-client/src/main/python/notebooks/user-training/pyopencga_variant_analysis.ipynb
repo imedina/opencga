{
 "cells": [
  {
   "cell_type": "markdown",
   "id": "reliable-brain",
   "metadata": {},
   "source": [
    "# *pyopencga* Basic Variant Analysis\n",
    "\n",
    "------\n"
   ]
  },
  {
   "cell_type": "markdown",
   "id": "latter-statement",
   "metadata": {},
   "source": [
    "# Overview\n",
    "-------\n",
    "Note: Check Job info in the \"first steps\""
   ]
  },
  {
   "cell_type": "markdown",
   "id": "saving-canyon",
   "metadata": {},
   "source": [
    "# Working with OpenCGA Jobs\n",
    "---------\n"
   ]
  },
  {
   "cell_type": "markdown",
   "id": "instructional-reputation",
   "metadata": {},
   "source": [
    "# VCF Export\n",
    "-----------\n",
    "\n",
    "Note: provide a full documented example"
   ]
  },
  {
   "cell_type": "markdown",
   "id": "statutory-joyce",
   "metadata": {},
   "source": [
    "# GWAS Analysis\n",
    "----------"
   ]
  },
  {
   "cell_type": "code",
   "execution_count": null,
   "id": "affiliated-people",
   "metadata": {},
   "outputs": [],
   "source": []
  }
 ],
 "metadata": {
  "kernelspec": {
   "display_name": "Python 3",
   "language": "python",
   "name": "python3"
  },
  "language_info": {
   "codemirror_mode": {
    "name": "ipython",
    "version": 3
   },
   "file_extension": ".py",
   "mimetype": "text/x-python",
   "name": "python",
   "nbconvert_exporter": "python",
   "pygments_lexer": "ipython3",
   "version": "3.8.10"
  }
 },
 "nbformat": 4,
 "nbformat_minor": 5
}
